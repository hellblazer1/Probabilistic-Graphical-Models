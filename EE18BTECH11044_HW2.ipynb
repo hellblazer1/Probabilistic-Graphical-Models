{
 "cells": [
  {
   "cell_type": "code",
   "execution_count": 22,
   "metadata": {},
   "outputs": [],
   "source": [
    "import numpy as np"
   ]
  },
  {
   "cell_type": "code",
   "execution_count": 30,
   "metadata": {},
   "outputs": [],
   "source": [
    "#Observations\n",
    "X = [1,1,5,1,5,1,1,1,5,5]\n",
    "#Theta Parameters\n",
    "Pi = [0.8,0.2]\n",
    "A = [[0.7,0.3],[0.2,0.8]]\n",
    "CP = [[0.2,0.7],[0.8,0.3]]\n",
    "#Initializing w matrix\n",
    "W = np.zeros((2,10)) "
   ]
  },
  {
   "cell_type": "code",
   "execution_count": 31,
   "metadata": {},
   "outputs": [],
   "source": [
    "#Initialzing the base values of W Matrix using Pi \n",
    "W[0][0] = Pi[0]*CP[0][0]\n",
    "W[1][0] = Pi[1]*CP[0][1]"
   ]
  },
  {
   "cell_type": "code",
   "execution_count": 32,
   "metadata": {},
   "outputs": [],
   "source": [
    "#Evaluating the W matrix\n",
    "for n in range(1,10):\n",
    "    if(X[n] == 1):\n",
    "        W[0][n] = max(W[0][n-1]*A[0][0]*CP[0][0],W[1][n-1]*A[1][0]*CP[0][0])\n",
    "        W[1][n] = max(W[0][n-1]*A[0][1]*CP[0][1],W[1][n-1]*A[1][1]*CP[0][1])\n",
    "    elif(X[n] == 5):\n",
    "        W[0][n] = max(W[0][n-1]*A[0][0]*CP[1][0],W[1][n-1]*A[1][0]*CP[1][0])\n",
    "        W[1][n] = max(W[0][n-1]*A[0][1]*CP[1][1],W[1][n-1]*A[1][1]*CP[1][1])"
   ]
  },
  {
   "cell_type": "code",
   "execution_count": 33,
   "metadata": {},
   "outputs": [],
   "source": [
    "#Evaluate the most probable sequence\n",
    "res = ['']*10\n",
    "for n in range(10):\n",
    "    if(W[0][n] > W[1][n]):\n",
    "        res[n] = 'H'\n",
    "    else:\n",
    "        res[n] = 'C'"
   ]
  },
  {
   "cell_type": "code",
   "execution_count": 36,
   "metadata": {},
   "outputs": [
    {
     "name": "stdout",
     "output_type": "stream",
     "text": [
      "['H', 'C', 'C', 'C', 'C', 'C', 'C', 'C', 'C', 'H']\n"
     ]
    }
   ],
   "source": [
    "print(res)"
   ]
  },
  {
   "cell_type": "code",
   "execution_count": null,
   "metadata": {},
   "outputs": [],
   "source": []
  }
 ],
 "metadata": {
  "kernelspec": {
   "display_name": "Python 3",
   "language": "python",
   "name": "python3"
  },
  "language_info": {
   "codemirror_mode": {
    "name": "ipython",
    "version": 3
   },
   "file_extension": ".py",
   "mimetype": "text/x-python",
   "name": "python",
   "nbconvert_exporter": "python",
   "pygments_lexer": "ipython3",
   "version": "3.7.3"
  }
 },
 "nbformat": 4,
 "nbformat_minor": 2
}
